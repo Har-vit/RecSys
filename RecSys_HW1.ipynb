{
 "cells": [
  {
   "cell_type": "markdown",
   "metadata": {},
   "source": [
    "1. Сравните метрики hit_rate@k, precision@k.   \n",
    "Какую метрику использовать предпочтительно и почему?  \n",
    "Приведите пример 2-3 задач (опишите, что является клиентом, что товаром), в которой более уместно использовать метрику hit_rate?\n"
   ]
  },
  {
   "cell_type": "markdown",
   "metadata": {},
   "source": [
    "* __hit_rate@k__ - был ли хотя бы 1 релевантный товар среди топ-k рекомендованных\n",
    "* __precision@k__ - какой % рекомендованных товаров юзер купил среди k рекомендованных\n",
    "\n",
    "    hit_rate@k дает минимум информации: купил что-либо клиент или нет. В отличие от неё precision@k дает больше информации для понимания процесса: на сколько хорошо сработала RS.\n",
    "    \n",
    "    \n",
    "Пример №1.\n",
    "Сайт канцтоваров.\n",
    "Если по запросу \"Пенал\" система подобрала в качестве рекомендаций товары типа: ручка, карандаш, ластик - то, precision, в теории, должна дать хороший % в случае успеха.\n",
    "\n",
    "Пример №2.\n",
    "Для оценки банера на главной странице сайта, я бы применил метрику hit_rate просто потому, что априри неизвестно, какой товар нужен потребителю. Соответственно, в случае успеха hit_rate покажет \"1\". "
   ]
  },
  {
   "cell_type": "markdown",
   "metadata": {},
   "source": [
    "2. В метрике NDCG@k мы используем логарифм в знаменателе. Как Вы думаете, почему именно логарифм? Какую функцию можно использовать вместо логарифма? Привидите пример метрик/подходов к предобработке данных/функций ошибок в ML, где также в  логарифм.\n",
    "\n"
   ]
  },
  {
   "cell_type": "markdown",
   "metadata": {},
   "source": [
    "$log_2$ в знаменателе применяется для того, чтобы в топе оказались более релевантные ответы. Вместо $log_2$ можно выбрать любую медленно возрастающую функцию, например $\\sqrt{x}$. Cамо собой в метрике DCG также применяется $log_2$.\n",
    "Логарифм применяется в функции ошибок $logloss$."
   ]
  },
  {
   "cell_type": "markdown",
   "metadata": {},
   "source": [
    "3. Какие еще метрики (Вы можете вспомнить уже пройденные Вами или посмотреть в интернете) могут использоваться для рекомендательных систем (приведите примеры метрики **и чем являются интеракции**, чтобы она могла быть использована)."
   ]
  },
  {
   "cell_type": "code",
   "execution_count": null,
   "metadata": {},
   "outputs": [],
   "source": [
    "# Корреляция Спирмена - Корреляция реального и прогнозируемого рангов рекомендаций\n",
    "from recsys.evaluation.ranking import SpearmanRho\n",
    "\n",
    "TEST_RANKING = [('classical', 25.0), ('piano', 75.0), ('baroque', 50.0), ('instrumental', 25.0)]\n",
    "GT_RANKING = [('classical', 50.0), ('piano', 100.0), ('baroque', 25.0), ('instrumental', 25.0)]\n",
    "spearman = SpearmanRho()\n",
    "spearman.load(GT_RANKING, TEST_RANKING)\n",
    "spearman.compute() #returns 0.5"
   ]
  },
  {
   "cell_type": "code",
   "execution_count": null,
   "metadata": {},
   "outputs": [],
   "source": [
    "# Кендалл-t. Сравнивает рекомендуемый список со списком элементов, предпочитаемых пользователем.\n",
    "from recsys.evaluation.ranking import KendallTau\n",
    "\n",
    "TEST_RANKING = [('classical', 25.0), ('piano', 75.0), ('baroque', 50.0), ('instrumental', 25.0)]\n",
    "GT_RANKING = [('classical', 50.0), ('piano', 100.0), ('baroque', 25.0), ('instrumental', 25.0)]\n",
    "kendall = KendallTau()\n",
    "kendall.load(GT_RANKING, TEST_RANKING)\n",
    "kendall.compute() #returns 0.4"
   ]
  },
  {
   "cell_type": "markdown",
   "metadata": {},
   "source": [
    "4. boughted = [1, 3, 5, 7, 9, 11]  \n",
    "recommended = [2, 5, 7, 4, 11, 9, 8, 10, 12, 3]  \n",
    "Посчитайте на этих данных pr@8, rec@8, AP@8, NDCG@8, RR@8, ERR@8 (expected reciprocal rank)  \n",
    "Сначала поссчитайет \"руками\", а затем подтвердите рассчеты с помощью функций (некоторые были на семинаре, некоторые нужно будут написать самостоятельно)"
   ]
  },
  {
   "cell_type": "code",
   "execution_count": 1,
   "metadata": {},
   "outputs": [],
   "source": [
    "import pandas as pd\n",
    "import numpy as np"
   ]
  },
  {
   "cell_type": "code",
   "execution_count": 2,
   "metadata": {},
   "outputs": [],
   "source": [
    "boughted = [1, 3, 5, 7, 9, 11]  \n",
    "recommended = [2, 5, 7, 4, 11, 9, 8, 10, 12, 3]  "
   ]
  },
  {
   "cell_type": "code",
   "execution_count": 3,
   "metadata": {},
   "outputs": [
    {
     "data": {
      "text/plain": [
       "0.5"
      ]
     },
     "execution_count": 3,
     "metadata": {},
     "output_type": "execute_result"
    }
   ],
   "source": [
    "def precision_at_k(recommended_list, bought_list, k):\n",
    "    \n",
    "    bought_list = np.array(bought_list)\n",
    "    recommended_list = np.array(recommended_list)\n",
    "    \n",
    "    recommended_list = recommended_list[:k]\n",
    "    \n",
    "    flags = np.isin(bought_list, recommended_list)\n",
    "    precision = flags.sum() / len(recommended_list)\n",
    "    \n",
    "    return precision\n",
    "\n",
    "precision_at_k(recommended, boughted, 8)"
   ]
  },
  {
   "cell_type": "code",
   "execution_count": 4,
   "metadata": {},
   "outputs": [
    {
     "data": {
      "text/plain": [
       "0.6666666666666666"
      ]
     },
     "execution_count": 4,
     "metadata": {},
     "output_type": "execute_result"
    }
   ],
   "source": [
    "def recall_at_k(recommended_list, bought_list, k):\n",
    "    bought_list = np.array(bought_list)\n",
    "    recommended_list = np.array(recommended_list)[:k]\n",
    "    \n",
    "    flags = np.isin(bought_list, recommended_list)\n",
    "    \n",
    "    recall = flags.sum() / len(bought_list)\n",
    "    \n",
    "    return recall\n",
    "\n",
    "recall_at_k(recommended, boughted, 8)"
   ]
  },
  {
   "cell_type": "code",
   "execution_count": 5,
   "metadata": {},
   "outputs": [
    {
     "data": {
      "text/plain": [
       "0.16"
      ]
     },
     "execution_count": 5,
     "metadata": {},
     "output_type": "execute_result"
    }
   ],
   "source": [
    "def ap_k(recommended_list, bought_list, k):\n",
    "    \n",
    "    bought_list = np.array(bought_list)\n",
    "    recommended_list = np.array(recommended_list)\n",
    "    \n",
    "    flags = np.isin(recommended_list, bought_list)\n",
    "    \n",
    "    if sum(flags) == 0:\n",
    "        return 0\n",
    "    \n",
    "    sum_ = 0\n",
    "    for i in range(1, k+1): \n",
    "        if flags[i] == True:\n",
    "            p_k = precision_at_k(recommended_list, bought_list, k=i)\n",
    "            sum_ += p_k\n",
    "            \n",
    "    result = sum_ / len(flags)\n",
    "    \n",
    "    return result\n",
    "\n",
    "ap_k(recommended, boughted, 8)"
   ]
  },
  {
   "cell_type": "code",
   "execution_count": 6,
   "metadata": {},
   "outputs": [
    {
     "data": {
      "text/plain": [
       "0.6533933590057491"
      ]
     },
     "execution_count": 6,
     "metadata": {},
     "output_type": "execute_result"
    }
   ],
   "source": [
    "bought_list = np.array(boughted)\n",
    "recommended_list = np.array(recommended)\n",
    "k = 8\n",
    "\n",
    "recommended_list = recommended_list[:k]\n",
    "\n",
    "r = np.isin(bought_list, recommended_list)\n",
    "\n",
    "def dcg_at_k(r, method = 1):\n",
    "    \n",
    "    r = np.asfarray(r)[:k]\n",
    "    \n",
    "    if method == 0:\n",
    "        return r[0] + np.sum(r[1:] / np.log2(np.arange(2, r.size + 1)))\n",
    "    elif method == 1:\n",
    "        return np.sum(r / np.log2(np.arange(2, r.size + 2)))\n",
    "    else:\n",
    "        raise ValueError('method must be 0 or 1.')\n",
    "        \n",
    "def ndcg_at_k(r):   \n",
    "    dcg_max = dcg_at_k(sorted(r, reverse=True))\n",
    "    if not dcg_max:\n",
    "        return 0.\n",
    "    return dcg_at_k(r) / dcg_max\n",
    "\n",
    "ndcg_at_k(r)"
   ]
  },
  {
   "cell_type": "code",
   "execution_count": 7,
   "metadata": {},
   "outputs": [
    {
     "data": {
      "text/plain": [
       "1.45"
      ]
     },
     "execution_count": 7,
     "metadata": {},
     "output_type": "execute_result"
    }
   ],
   "source": [
    "def reciprocal_rank(recommended_list, bought_list):\n",
    "    ranks=0.\n",
    "    for item_rec in recommended_list:\n",
    "        for i, item_bought in enumerate(bought_list):\n",
    "            if item_rec == item_bought:\n",
    "                ranks += 1 / (i+1)\n",
    "    return ranks \n",
    "\n",
    "reciprocal_rank(recommended, boughted)"
   ]
  },
  {
   "cell_type": "code",
   "execution_count": null,
   "metadata": {},
   "outputs": [],
   "source": []
  }
 ],
 "metadata": {
  "kernelspec": {
   "display_name": "Python 3",
   "language": "python",
   "name": "python3"
  },
  "language_info": {
   "codemirror_mode": {
    "name": "ipython",
    "version": 3
   },
   "file_extension": ".py",
   "mimetype": "text/x-python",
   "name": "python",
   "nbconvert_exporter": "python",
   "pygments_lexer": "ipython3",
   "version": "3.7.6"
  },
  "toc": {
   "base_numbering": 1,
   "nav_menu": {},
   "number_sections": true,
   "sideBar": true,
   "skip_h1_title": false,
   "title_cell": "Table of Contents",
   "title_sidebar": "Contents",
   "toc_cell": false,
   "toc_position": {},
   "toc_section_display": true,
   "toc_window_display": false
  }
 },
 "nbformat": 4,
 "nbformat_minor": 2
}
