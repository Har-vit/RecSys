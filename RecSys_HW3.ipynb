{
 "cells": [
  {
   "cell_type": "markdown",
   "metadata": {},
   "source": [
    "## Теоретическая часть"
   ]
  },
  {
   "cell_type": "markdown",
   "metadata": {},
   "source": [
    "1. Вспомним прошлый вебинар, мы рассматривали User-User рекомендации и Item-Item рекомендации. Чем они отличаются и чем они похожи? Если есть функция item_item_rec(interaction_matrix). Можно ли использовать эту функцию для user_user_rec?  \n",
    "В чем принципиальные отличия item-item рекомендаций от ALS?"
   ]
  },
  {
   "cell_type": "markdown",
   "metadata": {},
   "source": [
    "item-item recommender - это модифицированный аналог алгоритма KNN. Влияет на рейтинг товаров.\n",
    "\n",
    "ALS - алгоритм, который находит приближенные разложения изначальной разреженной матрицы. Веса будут зависеть от координат элементов матриц, характеризующих факт взаимодействия пользователя с товаром."
   ]
  },
  {
   "cell_type": "markdown",
   "metadata": {},
   "source": [
    "2. Приведите 3 примера весов (те, которых не было на вебинаре: сумма покупок, количество покупок - неинтересно) user-item матрицы для задачи рекомендаций товаров:"
   ]
  },
  {
   "cell_type": "markdown",
   "metadata": {},
   "source": [
    "Взаимодействие пользователя с контентом в социальных сетях: лайки, репосты, комменты, просмотры.\n",
    "\n",
    "Факт покупки товара, добавление товара в корзину.\n",
    "\n",
    "Переходы по ссылкам.\n",
    "\n",
    "Реакция на письма, рекламу."
   ]
  },
  {
   "cell_type": "markdown",
   "metadata": {},
   "source": [
    "3. Какие ограничения есть у ALS? (Тип информации, линейность/нелинейность факторов и т д)"
   ]
  },
  {
   "cell_type": "markdown",
   "metadata": {},
   "source": [
    "ALS нельзя использовать для рекомендации сезонных товаров. \n",
    "\n",
    "Также он плохо работает на \"холодном\" старте из-за невозможности работы с внешними фичами (признаки товаров и пользователей).\n",
    "\n",
    "Считает лишь факт взаимодействия пользователя с товаром, но веса зависят от количества взаимодействий.\n",
    "\n",
    "Строковые значения передавать нельзя, если есть строковые значения их надо рекодировать в категории целочисленного типа."
   ]
  },
  {
   "cell_type": "markdown",
   "metadata": {},
   "source": [
    "4. Мы рассматривали bm_25_weight. \n",
    "Опишите, как он работает. Как сделать рекомендации только на основе bm_25? (Можно и нужно пользоваться любыми источниками, приложите на них ссылки). Какие еще способы перевзвешивания user-item матрицы Вы знаете / можете предложить (ещё 2-3 способа)?"
   ]
  },
  {
   "cell_type": "markdown",
   "metadata": {},
   "source": [
    "Взвешивает каждую отдельную строку разреженной(изначальной) матрицы пользователь-предмет.\n",
    "\n",
    "Вводится зависимость релевантности от вхождения или не вхождения слов в запросах с более чем одного слова. Релевантность всего поискового запроса равна сумме релевантностей всех слов. Таким образом, отсутствие слова или другими словами image (его частота) равна 0 дает релевантность 0."
   ]
  },
  {
   "cell_type": "code",
   "execution_count": 1,
   "metadata": {},
   "outputs": [],
   "source": [
    "def bm25_weight(X, K1=100, B=0.8):\n",
    "    \"\"\" Weighs each row of a sparse matrix X  by BM25 weighting \"\"\"\n",
    "    \n",
    "    # calculate idf per term (user)\n",
    "    X = coo_matrix(X) # матрица переводится в формат матрицы типа np.array, но модифицированный под scipy\n",
    "\n",
    "    N = float(X.shape[0])  # принимаются строки матрицы в формате float\n",
    "    binc = np.bincount(X.col) # подсчитывается количество вхождений каждого объекта в строке\n",
    "    idf = np.log(N) - np.log(1 + binc) # из логарифма по количеству строк матрицы\n",
    "                                 # вычитается логарифт 1 + количество каждого объекта в строке\n",
    "\n",
    "    # calculate length_norm per document (artist)\n",
    "    X_sum = X.sum(axis=1)      # суммируются значения столбцов\n",
    "    row_sums = np.ravel(X_sum) # переводятся в одномерный массив\n",
    "    average_length = row_sums.mean() # выводится среднее значение\n",
    "    length_norm = (1.0 - B) + B * row_sums / average_length # нормализация строк матрицы\n",
    "                                                            # одномерный массив делится на его среднее значение\n",
    "                                                            # после этого умножается на дефолтный вес 0.8 + 0.2\n",
    "    \n",
    "    # weight matrix rows by bm25\n",
    "    X.data = X.data * (K1 + 1.0) / (K1 * length_norm[X.row] + X.data) * idf[X.col] # здесь происходит перевзвешивание \n",
    "                                                                                   # вcей матрицы\n",
    "        \n",
    "    return X, idf, length_norm"
   ]
  },
  {
   "cell_type": "markdown",
   "metadata": {},
   "source": [
    "https://habr.com/ru/post/162937/\n",
    "https://github.com/benfred/implicit/blob/master/implicit/nearest_neighbours.py\n",
    "https://seonomad.net/article/algoritm-bm25"
   ]
  },
  {
   "cell_type": "markdown",
   "metadata": {},
   "source": [
    "## Практическая часть\n"
   ]
  },
  {
   "cell_type": "code",
   "execution_count": 2,
   "metadata": {},
   "outputs": [],
   "source": [
    "import implicit"
   ]
  },
  {
   "cell_type": "code",
   "execution_count": 11,
   "metadata": {},
   "outputs": [],
   "source": [
    "import pandas as pd\n",
    "import numpy as np\n",
    "import matplotlib.pyplot as plt\n",
    "%matplotlib inline\n",
    "\n",
    "# Для работы с матрицами\n",
    "from scipy.sparse import csr_matrix\n",
    "\n",
    "# Матричная факторизация\n",
    "from implicit.als import AlternatingLeastSquares"
   ]
  },
  {
   "cell_type": "code",
   "execution_count": 15,
   "metadata": {},
   "outputs": [],
   "source": [
    "def precision_at_k(recommended_list, bought_list, k=5):\n",
    "    \n",
    "    bought_list = np.array(bought_list)\n",
    "    recommended_list = np.array(recommended_list)\n",
    "    \n",
    "    bought_list = bought_list  # Тут нет [:k] !!\n",
    "    recommended_list = recommended_list[:k]\n",
    "    \n",
    "    flags = np.isin(bought_list, recommended_list)\n",
    "    precision = flags.sum() / len(recommended_list)\n",
    "    \n",
    "    \n",
    "    return precision"
   ]
  },
  {
   "cell_type": "code",
   "execution_count": 4,
   "metadata": {},
   "outputs": [],
   "source": [
    "data = pd.read_csv('retail_train.csv')\n",
    "\n",
    "data.columns = [col.lower() for col in data.columns]\n",
    "data.rename(columns={'household_key': 'user_id',\n",
    "                    'product_id': 'item_id'},\n",
    "           inplace=True)\n",
    "\n",
    "\n",
    "test_size_weeks = 3\n",
    "\n",
    "data_train = data[data['week_no'] < data['week_no'].max() - test_size_weeks]\n",
    "data_test = data[data['week_no'] >= data['week_no'].max() - test_size_weeks]"
   ]
  },
  {
   "cell_type": "code",
   "execution_count": 5,
   "metadata": {},
   "outputs": [],
   "source": [
    "item_features = pd.read_csv('product.csv')\n",
    "item_features.columns = [col.lower() for col in item_features.columns]\n",
    "item_features.rename(columns={'product_id': 'item_id'}, inplace=True)"
   ]
  },
  {
   "cell_type": "code",
   "execution_count": 6,
   "metadata": {},
   "outputs": [],
   "source": [
    "result = data_test.groupby('user_id')['item_id'].unique().reset_index()\n",
    "result.columns=['user_id', 'actual']"
   ]
  },
  {
   "cell_type": "code",
   "execution_count": 7,
   "metadata": {},
   "outputs": [],
   "source": [
    "popularity = data_train.groupby('item_id')['quantity'].sum().reset_index()\n",
    "popularity.rename(columns={'quantity': 'n_sold'}, inplace=True)\n",
    "\n",
    "top_5000 = popularity.sort_values('n_sold', ascending=False).head(5000).item_id.tolist()"
   ]
  },
  {
   "cell_type": "code",
   "execution_count": 18,
   "metadata": {},
   "outputs": [],
   "source": [
    "# Заведем фиктивный item_id (если юзер не покупал товары из топ-5000, то он \"купил\" такой товар)\n",
    "data_train.loc[~data_train['item_id'].isin(top_5000), 'item_id'] = 999999\n",
    "\n",
    "user_item_matrix = pd.pivot_table(data_train, \n",
    "                                  index='user_id', columns='item_id', \n",
    "                                  values='sales_value', # Можно пробовать другие варианты\n",
    "                                  aggfunc='count', \n",
    "                                  fill_value=0\n",
    "                                 )\n",
    "\n",
    "user_item_matrix = user_item_matrix.astype(float) # необходимый тип матрицы для implicit\n",
    "\n",
    "# переведем в формат saprse matrix\n",
    "sparse_user_item = csr_matrix(user_item_matrix).tocsr()"
   ]
  },
  {
   "cell_type": "code",
   "execution_count": 19,
   "metadata": {},
   "outputs": [],
   "source": [
    "userids = user_item_matrix.index.values\n",
    "itemids = user_item_matrix.columns.values\n",
    "\n",
    "matrix_userids = np.arange(len(userids))\n",
    "matrix_itemids = np.arange(len(itemids))\n",
    "\n",
    "id_to_itemid = dict(zip(matrix_itemids, itemids))\n",
    "id_to_userid = dict(zip(matrix_userids, userids))\n",
    "\n",
    "itemid_to_id = dict(zip(itemids, matrix_itemids))\n",
    "userid_to_id = dict(zip(userids, matrix_userids))"
   ]
  },
  {
   "cell_type": "code",
   "execution_count": 20,
   "metadata": {},
   "outputs": [
    {
     "data": {
      "application/vnd.jupyter.widget-view+json": {
       "model_id": "e2c1c80c8016411eb47c6d58acad7f30",
       "version_major": 2,
       "version_minor": 0
      },
      "text/plain": [
       "HBox(children=(FloatProgress(value=0.0, max=15.0), HTML(value='')))"
      ]
     },
     "metadata": {},
     "output_type": "display_data"
    },
    {
     "name": "stdout",
     "output_type": "stream",
     "text": [
      "\n"
     ]
    }
   ],
   "source": [
    "model = AlternatingLeastSquares(factors=100, #k\n",
    "                                regularization=0.001,\n",
    "                                iterations=15, \n",
    "                                calculate_training_loss=True, \n",
    "                                num_threads=4)\n",
    "\n",
    "model.fit(csr_matrix(user_item_matrix).T.tocsr(),  # На вход item-user matrix\n",
    "          show_progress=True)\n",
    "\n",
    "recs = model.recommend(userid=userid_to_id[2],  # userid - id от 0 до N\n",
    "                        user_items=csr_matrix(user_item_matrix).tocsr(),   # на вход user-item matrix\n",
    "                        N=5, # кол-во рекомендаций \n",
    "                        filter_already_liked_items=False, \n",
    "                        filter_items=None, \n",
    "                        recalculate_user=True)"
   ]
  },
  {
   "cell_type": "code",
   "execution_count": 21,
   "metadata": {},
   "outputs": [],
   "source": [
    "def get_recommendations(user, model, N=5):\n",
    "    res = [id_to_itemid[rec[0]] for rec in \n",
    "                    model.recommend(userid=userid_to_id[user], \n",
    "                                    user_items=sparse_user_item,   # на вход user-item matrix\n",
    "                                    N=N, \n",
    "                                    filter_already_liked_items=False, \n",
    "                                    filter_items=None, \n",
    "                                    recalculate_user=True)]\n",
    "    return res"
   ]
  },
  {
   "cell_type": "code",
   "execution_count": 22,
   "metadata": {},
   "outputs": [
    {
     "data": {
      "text/plain": [
       "0.16043095004897162"
      ]
     },
     "execution_count": 22,
     "metadata": {},
     "output_type": "execute_result"
    }
   ],
   "source": [
    "result['als'] = result['user_id'].apply(lambda x: get_recommendations(x, model=model, N=5))\n",
    "result.apply(lambda row: precision_at_k(row['als'], row['actual']), axis=1).mean()"
   ]
  },
  {
   "cell_type": "code",
   "execution_count": 32,
   "metadata": {},
   "outputs": [],
   "source": [
    "# Заведем фиктивный item_id (если юзер не покупал товары из топ-5000, то он \"купил\" такой товар)\n",
    "data_train.loc[~data_train['item_id'].isin(top_5000), 'item_id'] = 999999\n",
    "\n",
    "user_item_matrix = pd.pivot_table(data_train, \n",
    "                                  index='user_id', columns='item_id', \n",
    "                                  values='retail_disc', # Можно пробовать другие варианты\n",
    "                                  aggfunc='count', \n",
    "                                  fill_value=0\n",
    "                                 )\n",
    "\n",
    "user_item_matrix = user_item_matrix.astype(float) # необходимый тип матрицы для implicit\n",
    "\n",
    "# переведем в формат saprse matrix\n",
    "sparse_user_item = csr_matrix(user_item_matrix).tocsr()"
   ]
  },
  {
   "cell_type": "code",
   "execution_count": 33,
   "metadata": {},
   "outputs": [],
   "source": [
    "userids = user_item_matrix.index.values\n",
    "itemids = user_item_matrix.columns.values\n",
    "\n",
    "matrix_userids = np.arange(len(userids))\n",
    "matrix_itemids = np.arange(len(itemids))\n",
    "\n",
    "id_to_itemid = dict(zip(matrix_itemids, itemids))\n",
    "id_to_userid = dict(zip(matrix_userids, userids))\n",
    "\n",
    "itemid_to_id = dict(zip(itemids, matrix_itemids))\n",
    "userid_to_id = dict(zip(userids, matrix_userids))"
   ]
  },
  {
   "cell_type": "code",
   "execution_count": 34,
   "metadata": {},
   "outputs": [
    {
     "data": {
      "application/vnd.jupyter.widget-view+json": {
       "model_id": "7545df4198eb40aa9e98787be18056d8",
       "version_major": 2,
       "version_minor": 0
      },
      "text/plain": [
       "HBox(children=(FloatProgress(value=0.0, max=30.0), HTML(value='')))"
      ]
     },
     "metadata": {},
     "output_type": "display_data"
    },
    {
     "name": "stdout",
     "output_type": "stream",
     "text": [
      "\n"
     ]
    }
   ],
   "source": [
    "model = AlternatingLeastSquares(factors=100, #k\n",
    "                                regularization=0.001,\n",
    "                                iterations=15, \n",
    "                                calculate_training_loss=True, \n",
    "                                num_threads=4)\n",
    "\n",
    "model.fit(csr_matrix(user_item_matrix).T.tocsr(),  # На вход item-user matrix\n",
    "          show_progress=True)\n",
    "\n",
    "recs = model.recommend(userid=userid_to_id[2],  # userid - id от 0 до N\n",
    "                        user_items=csr_matrix(user_item_matrix).tocsr(),   # на вход user-item matrix\n",
    "                        N=5, # кол-во рекомендаций \n",
    "                        filter_already_liked_items=False, \n",
    "                        filter_items=None, \n",
    "                        recalculate_user=True)"
   ]
  },
  {
   "cell_type": "code",
   "execution_count": 35,
   "metadata": {},
   "outputs": [
    {
     "data": {
      "text/plain": [
       "0.16101860920666014"
      ]
     },
     "execution_count": 35,
     "metadata": {},
     "output_type": "execute_result"
    }
   ],
   "source": [
    "result['als'] = result['user_id'].apply(lambda x: get_recommendations(x, model=model, N=5))\n",
    "result.apply(lambda row: precision_at_k(row['als'], row['actual']), axis=1).mean()"
   ]
  },
  {
   "cell_type": "code",
   "execution_count": 36,
   "metadata": {},
   "outputs": [],
   "source": [
    "# Заведем фиктивный item_id (если юзер не покупал товары из топ-5000, то он \"купил\" такой товар)\n",
    "data_train.loc[~data_train['item_id'].isin(top_5000), 'item_id'] = 999999\n",
    "\n",
    "user_item_matrix = pd.pivot_table(data_train, \n",
    "                                  index='user_id', columns='item_id', \n",
    "                                  values='coupon_disc', # Можно пробовать другие варианты\n",
    "                                  aggfunc='count', \n",
    "                                  fill_value=0\n",
    "                                 )\n",
    "\n",
    "user_item_matrix = user_item_matrix.astype(float) # необходимый тип матрицы для implicit\n",
    "\n",
    "# переведем в формат saprse matrix\n",
    "sparse_user_item = csr_matrix(user_item_matrix).tocsr()"
   ]
  },
  {
   "cell_type": "code",
   "execution_count": 37,
   "metadata": {},
   "outputs": [],
   "source": [
    "userids = user_item_matrix.index.values\n",
    "itemids = user_item_matrix.columns.values\n",
    "\n",
    "matrix_userids = np.arange(len(userids))\n",
    "matrix_itemids = np.arange(len(itemids))\n",
    "\n",
    "id_to_itemid = dict(zip(matrix_itemids, itemids))\n",
    "id_to_userid = dict(zip(matrix_userids, userids))\n",
    "\n",
    "itemid_to_id = dict(zip(itemids, matrix_itemids))\n",
    "userid_to_id = dict(zip(userids, matrix_userids))"
   ]
  },
  {
   "cell_type": "code",
   "execution_count": 38,
   "metadata": {},
   "outputs": [
    {
     "data": {
      "application/vnd.jupyter.widget-view+json": {
       "model_id": "4ffee95f0e684cfb94d2640d4f290c1e",
       "version_major": 2,
       "version_minor": 0
      },
      "text/plain": [
       "HBox(children=(FloatProgress(value=0.0, max=15.0), HTML(value='')))"
      ]
     },
     "metadata": {},
     "output_type": "display_data"
    },
    {
     "name": "stdout",
     "output_type": "stream",
     "text": [
      "\n"
     ]
    }
   ],
   "source": [
    "model = AlternatingLeastSquares(factors=100, #k\n",
    "                                regularization=0.001,\n",
    "                                iterations=15, \n",
    "                                calculate_training_loss=True, \n",
    "                                num_threads=4)\n",
    "\n",
    "model.fit(csr_matrix(user_item_matrix).T.tocsr(),  # На вход item-user matrix\n",
    "          show_progress=True)\n",
    "\n",
    "recs = model.recommend(userid=userid_to_id[2],  # userid - id от 0 до N\n",
    "                        user_items=csr_matrix(user_item_matrix).tocsr(),   # на вход user-item matrix\n",
    "                        N=5, # кол-во рекомендаций \n",
    "                        filter_already_liked_items=False, \n",
    "                        filter_items=None, \n",
    "                        recalculate_user=True)"
   ]
  },
  {
   "cell_type": "code",
   "execution_count": 39,
   "metadata": {},
   "outputs": [
    {
     "data": {
      "text/plain": [
       "0.16052889324191966"
      ]
     },
     "execution_count": 39,
     "metadata": {},
     "output_type": "execute_result"
    }
   ],
   "source": [
    "result['als'] = result['user_id'].apply(lambda x: get_recommendations(x, model=model, N=5))\n",
    "result.apply(lambda row: precision_at_k(row['als'], row['actual']), axis=1).mean()"
   ]
  },
  {
   "cell_type": "markdown",
   "metadata": {},
   "source": [
    "### Подбор матрицы $c_{ui}$\n",
    "Попробуйте различные варианты матрицы весов (3+ вариантов). Обучите алгоритм для различных $C$. В качестве результата приведите таблицу: матрица весов - результат на train и validation.\n",
    "Сделате качественные выводы.\n"
   ]
  },
  {
   "cell_type": "code",
   "execution_count": null,
   "metadata": {},
   "outputs": [],
   "source": [
    "C1(sales_value) - 0.16043095004897162\n",
    "C2(retail_disc) - 0.15710088148873655\n",
    "C3(coupon_disc) - 0.15974534769833498"
   ]
  },
  {
   "cell_type": "markdown",
   "metadata": {},
   "source": [
    "Подбирая различный параметр \"values\" в матрице весов не удалось получить качественных различий в результате обучения модели."
   ]
  },
  {
   "cell_type": "markdown",
   "metadata": {},
   "source": [
    "### Оптимизация гипперпараметров\n",
    "Для лучшей матрицы весов из первого задания подберите оптимальные $\\lambda$ и n_factors. Подбор можно делать вручную (цикл в цикле, аналог sklearn.GridSearch, или случайно - sklearn.GridSearch). Или Вы можете воспользоваться библиотеками для автоматического подбора гипперпараметров (любые на Ваш вкус). В качестве результата постройте графики:\n",
    "1. Значение параметра - время обучения \n",
    "2. Значение параметра - качество train, качество validation  \n",
    "\n",
    "Сделайте качественные выводы"
   ]
  }
 ],
 "metadata": {
  "kernelspec": {
   "display_name": "Python 3",
   "language": "python",
   "name": "python3"
  },
  "language_info": {
   "codemirror_mode": {
    "name": "ipython",
    "version": 3
   },
   "file_extension": ".py",
   "mimetype": "text/x-python",
   "name": "python",
   "nbconvert_exporter": "python",
   "pygments_lexer": "ipython3",
   "version": "3.7.6"
  },
  "toc": {
   "base_numbering": 1,
   "nav_menu": {},
   "number_sections": true,
   "sideBar": true,
   "skip_h1_title": false,
   "title_cell": "Table of Contents",
   "title_sidebar": "Contents",
   "toc_cell": false,
   "toc_position": {},
   "toc_section_display": true,
   "toc_window_display": false
  }
 },
 "nbformat": 4,
 "nbformat_minor": 2
}
